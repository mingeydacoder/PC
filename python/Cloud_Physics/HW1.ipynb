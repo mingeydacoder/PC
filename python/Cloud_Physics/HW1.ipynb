{
 "cells": [
  {
   "cell_type": "markdown",
   "metadata": {},
   "source": [
    "# Cloud Physics HW1"
   ]
  },
  {
   "cell_type": "code",
   "execution_count": 11,
   "metadata": {},
   "outputs": [
    {
     "name": "stdout",
     "output_type": "stream",
     "text": [
      "constant ≅ 2035.2002695554531\n",
      "Temperature at 1015 hPa, 910 hPa, and 800 hPa: [32.0 22.62636978052609 11.936963647948687] degree_Celsius\n",
      "ws1 = 17.44190155102202\n",
      "ws2 = 19.916961059489623\n",
      "e = 24.82301373016204 es1 = 28.734476895684697 es2 = 15.457513848928448\n",
      "Q = 20 + 0.75 c = 2035.1107712838693\n",
      "χ = 0.8330389405104945\n"
     ]
    }
   ],
   "source": [
    "#Cloud Physics Hw1\n",
    "import numpy as np\n",
    "from metpy.units import units\n",
    "import metpy.calc as mpcalc\n",
    "\n",
    "T, P, cp, Rd, cw, Lv = 305, 1015, 1004, 287, 4187, 2.5*10**6\n",
    "P1, P2 = 910, 800\n",
    "\n",
    "#(1),(2),(3) calculation\n",
    "\n",
    "e = 6.11*10**(7.5*(21/(237.7+21))) #actual water vapor pressure [hPa]\n",
    "es = 6.11*10**(7.5*(32/(237.7+32))) #saturated water vapor pressure [hPa]\n",
    "ws = 621.97*(e/(1015-e)) #water vapor mixing ratio [g/kg]\n",
    "\n",
    "costant = (T/(P**(Rd/(cp+ws*cw))))*np.exp((ws*Lv)/(T*(cp+ws*cw))) #not reach saturation yet, Q = ws\n",
    "print(\"constant ≅\",costant)\n",
    "\n",
    "plevs = [1015, 910, 800] * units.hPa\n",
    "Tup = mpcalc.dry_lapse(plevs, 32*units.degC).to('degC') #(1)\n",
    "print(\"Temperature at 1015 hPa, 910 hPa, and 800 hPa:\",Tup)\n",
    "\n",
    "es1 = es*np.exp((-40700/8.3145)*((1/(22.62+273.15))-(1/T))) #not reach saturation yet, Q = ws, x = 0 #(3)\n",
    "ws1 = 621.97*(e/(910-e)) #water vapor mixing ratio at 910 hPa [g/kg] #(2)\n",
    "print(\"ws1 =\", ws1)\n",
    "\n",
    "#(4),(5),(6) calculation\n",
    "\n",
    "es2 = es*np.exp((-40700/8.3145)*((1/(11.94+273.15))-(1/T))) #reach saturation,x = Q - ws #(6)\n",
    "ws2 = 621.97*(e/(800-e)) #(5)\n",
    "print(\"ws2 =\", ws2)\n",
    "print(\"e =\",e,\"es1 =\",es1,\"es2 =\", es2)\n",
    "\n",
    "Q = 20\n",
    "for i in range (200):\n",
    "    costant1 = ((11.94+273.15)/(P2**(Rd/(cp+Q*cw))))*np.exp((ws2*Lv)/((11.94+273.15)*(cp+Q*cw)))\n",
    "    if abs(costant1-costant)/costant<=0.0001:\n",
    "        print(\"Q = 20 +\",0.01*i,\"c =\",costant1)\n",
    "        break\n",
    "    Q += 0.01\n",
    "\n",
    "X2 = Q - ws2\n",
    "print(\"χ =\",X2)\n"
   ]
  },
  {
   "cell_type": "markdown",
   "metadata": {},
   "source": [
    "$Answer: (1)=22.6,(2)=17.44,(3)=0,(4)=11.93,(5)=19.92,(6)=0.83$<br>\n",
    "先用地面氣溫及露點溫度計算出實際水氣壓和飽和水氣壓，以得出water vapor mixinig ratio及題目方程式的常數。此時因未飽和\n",
    "$(e<e_s)$，$w_s=Q$。沿乾絕熱遞減率得出在910hPa時之氣溫約為$22.6°c$，再藉由c-c equation得出此高度的飽和水氣壓。仍未達飽和，$w_{s1}=17.44, χ=0$。重複步驟計算當高度為800hpa時，因已達飽和，利用題目方程式及迴圈計算接近的total water pressure數值，根據公式算出$w_{s2}$後，與$Q$相減得到$χ$。"
   ]
  }
 ],
 "metadata": {
  "kernelspec": {
   "display_name": "Python 3",
   "language": "python",
   "name": "python3"
  },
  "language_info": {
   "codemirror_mode": {
    "name": "ipython",
    "version": 3
   },
   "file_extension": ".py",
   "mimetype": "text/x-python",
   "name": "python",
   "nbconvert_exporter": "python",
   "pygments_lexer": "ipython3",
   "version": "3.11.3"
  }
 },
 "nbformat": 4,
 "nbformat_minor": 2
}
